{
 "cells": [
  {
   "cell_type": "code",
   "execution_count": 1,
   "id": "4c39e96c",
   "metadata": {
    "_cell_guid": "b1076dfc-b9ad-4769-8c92-a6c4dae69d19",
    "_uuid": "8f2839f25d086af736a60e9eeb907d3b93b6e0e5",
    "execution": {
     "iopub.execute_input": "2024-11-12T16:14:25.033074Z",
     "iopub.status.busy": "2024-11-12T16:14:25.032665Z",
     "iopub.status.idle": "2024-11-12T16:14:25.749525Z",
     "shell.execute_reply": "2024-11-12T16:14:25.748756Z"
    },
    "papermill": {
     "duration": 0.727397,
     "end_time": "2024-11-12T16:14:25.751812",
     "exception": false,
     "start_time": "2024-11-12T16:14:25.024415",
     "status": "completed"
    },
    "tags": []
   },
   "outputs": [],
   "source": [
    "# This Python 3 environment comes with many helpful analytics libraries installed\n",
    "# It is defined by the kaggle/python Docker image: https://github.com/kaggle/docker-python\n",
    "# For example, here's several helpful packages to load\n",
    "\n",
    "import numpy as np # linear algebra\n",
    "import pandas as pd # data processing, CSV file I/O (e.g. pd.read_csv)\n",
    "\n",
    "# Input data files are available in the read-only \"../input/\" directory\n",
    "# For example, running this (by clicking run or pressing Shift+Enter) will list all files under the input directory\n",
    "\n",
    "import os\n",
    "for dirname, _, filenames in os.walk('/kaggle/input'):\n",
    "    for filename in filenames:\n",
    "        print(os.path.join(dirname, filename))\n",
    "\n",
    "# You can write up to 20GB to the current directory (/kaggle/working/) that gets preserved as output when you create a version using \"Save & Run All\" \n",
    "# You can also write temporary files to /kaggle/temp/, but they won't be saved outside of the current session"
   ]
  },
  {
   "cell_type": "code",
   "execution_count": 2,
   "id": "593005ef",
   "metadata": {
    "execution": {
     "iopub.execute_input": "2024-11-12T16:14:25.765497Z",
     "iopub.status.busy": "2024-11-12T16:14:25.765123Z",
     "iopub.status.idle": "2024-11-12T16:14:37.459685Z",
     "shell.execute_reply": "2024-11-12T16:14:37.458901Z"
    },
    "papermill": {
     "duration": 11.703989,
     "end_time": "2024-11-12T16:14:37.462153",
     "exception": false,
     "start_time": "2024-11-12T16:14:25.758164",
     "status": "completed"
    },
    "tags": []
   },
   "outputs": [],
   "source": [
    "import tensorflow as tf\n",
    "from tensorflow.keras.datasets import mnist\n",
    "from tensorflow.keras.utils import to_categorical\n",
    "from tensorflow.keras.models import Sequential\n",
    "from tensorflow.keras.layers import Dense, Dropout, Conv2D, Flatten, MaxPooling2D, Input, BatchNormalization\n",
    "\n",
    "import matplotlib.pyplot as plt"
   ]
  },
  {
   "cell_type": "markdown",
   "id": "9606056d",
   "metadata": {
    "papermill": {
     "duration": 0.005846,
     "end_time": "2024-11-12T16:14:37.474270",
     "exception": false,
     "start_time": "2024-11-12T16:14:37.468424",
     "status": "completed"
    },
    "tags": []
   },
   "source": [
    "**Load Data**"
   ]
  },
  {
   "cell_type": "code",
   "execution_count": 3,
   "id": "1e41e8f8",
   "metadata": {
    "execution": {
     "iopub.execute_input": "2024-11-12T16:14:37.488644Z",
     "iopub.status.busy": "2024-11-12T16:14:37.488088Z",
     "iopub.status.idle": "2024-11-12T16:14:37.877075Z",
     "shell.execute_reply": "2024-11-12T16:14:37.876263Z"
    },
    "papermill": {
     "duration": 0.398304,
     "end_time": "2024-11-12T16:14:37.879461",
     "exception": false,
     "start_time": "2024-11-12T16:14:37.481157",
     "status": "completed"
    },
    "tags": []
   },
   "outputs": [
    {
     "name": "stdout",
     "output_type": "stream",
     "text": [
      "Downloading data from https://storage.googleapis.com/tensorflow/tf-keras-datasets/mnist.npz\n",
      "\u001b[1m11490434/11490434\u001b[0m \u001b[32m━━━━━━━━━━━━━━━━━━━━\u001b[0m\u001b[37m\u001b[0m \u001b[1m0s\u001b[0m 0us/step\n"
     ]
    }
   ],
   "source": [
    "(X_train, y_train), (X_test, y_test) = mnist.load_data()"
   ]
  },
  {
   "cell_type": "code",
   "execution_count": 4,
   "id": "2ed1fb00",
   "metadata": {
    "execution": {
     "iopub.execute_input": "2024-11-12T16:14:37.894000Z",
     "iopub.status.busy": "2024-11-12T16:14:37.893641Z",
     "iopub.status.idle": "2024-11-12T16:14:37.898303Z",
     "shell.execute_reply": "2024-11-12T16:14:37.897459Z"
    },
    "papermill": {
     "duration": 0.014575,
     "end_time": "2024-11-12T16:14:37.900704",
     "exception": false,
     "start_time": "2024-11-12T16:14:37.886129",
     "status": "completed"
    },
    "tags": []
   },
   "outputs": [
    {
     "name": "stdout",
     "output_type": "stream",
     "text": [
      "X train: (60000, 28, 28)\n",
      "y train: (60000,)\n",
      "\n",
      "X test: (10000, 28, 28)\n",
      "y test: (10000,)\n"
     ]
    }
   ],
   "source": [
    "print(f'X train: {X_train.shape}\\ny train: {y_train.shape}\\n\\nX test: {X_test.shape}\\ny test: {y_test.shape}')"
   ]
  },
  {
   "cell_type": "code",
   "execution_count": 5,
   "id": "4f7767ba",
   "metadata": {
    "execution": {
     "iopub.execute_input": "2024-11-12T16:14:37.914645Z",
     "iopub.status.busy": "2024-11-12T16:14:37.914347Z",
     "iopub.status.idle": "2024-11-12T16:14:37.918189Z",
     "shell.execute_reply": "2024-11-12T16:14:37.917348Z"
    },
    "papermill": {
     "duration": 0.012975,
     "end_time": "2024-11-12T16:14:37.920106",
     "exception": false,
     "start_time": "2024-11-12T16:14:37.907131",
     "status": "completed"
    },
    "tags": []
   },
   "outputs": [],
   "source": [
    "SAMPLE_SIZE = 12"
   ]
  },
  {
   "cell_type": "code",
   "execution_count": 6,
   "id": "d011a0cd",
   "metadata": {
    "execution": {
     "iopub.execute_input": "2024-11-12T16:14:37.933763Z",
     "iopub.status.busy": "2024-11-12T16:14:37.933482Z",
     "iopub.status.idle": "2024-11-12T16:14:37.940318Z",
     "shell.execute_reply": "2024-11-12T16:14:37.939450Z"
    },
    "papermill": {
     "duration": 0.015818,
     "end_time": "2024-11-12T16:14:37.942289",
     "exception": false,
     "start_time": "2024-11-12T16:14:37.926471",
     "status": "completed"
    },
    "tags": []
   },
   "outputs": [
    {
     "data": {
      "text/plain": [
       "array([5, 0, 4, 1, 9, 2, 1, 3, 1, 4, 3, 5], dtype=uint8)"
      ]
     },
     "execution_count": 6,
     "metadata": {},
     "output_type": "execute_result"
    }
   ],
   "source": [
    "y_train[0:SAMPLE_SIZE]"
   ]
  },
  {
   "cell_type": "code",
   "execution_count": 7,
   "id": "3ecbd27d",
   "metadata": {
    "execution": {
     "iopub.execute_input": "2024-11-12T16:14:37.956474Z",
     "iopub.status.busy": "2024-11-12T16:14:37.956172Z",
     "iopub.status.idle": "2024-11-12T16:14:38.322365Z",
     "shell.execute_reply": "2024-11-12T16:14:38.321278Z"
    },
    "papermill": {
     "duration": 0.376404,
     "end_time": "2024-11-12T16:14:38.325249",
     "exception": false,
     "start_time": "2024-11-12T16:14:37.948845",
     "status": "completed"
    },
    "tags": []
   },
   "outputs": [
    {
     "data": {
      "image/png": "[encoded data removed]",
      "text/plain": [
       "<Figure size 500x500 with 12 Axes>"
      ]
     },
     "metadata": {},
     "output_type": "display_data"
    }
   ],
   "source": [
    "plt.figure(figsize=(5, 5))\n",
    "\n",
    "for i in range(SAMPLE_SIZE):\n",
    "    plt.subplot(3, 4, i+1)\n",
    "    plt.imshow(X_train[i], cmap='Greys')\n",
    "    plt.axis('off')\n",
    "plt.tight_layout()\n",
    "plt.show()"
   ]
  },
  {
   "cell_type": "markdown",
   "id": "431380a0",
   "metadata": {
    "papermill": {
     "duration": 0.006675,
     "end_time": "2024-11-12T16:14:38.338923",
     "exception": false,
     "start_time": "2024-11-12T16:14:38.332248",
     "status": "completed"
    },
    "tags": []
   },
   "source": [
    "**Preprocess Data**"
   ]
  },
  {
   "cell_type": "code",
   "execution_count": 8,
   "id": "05d05157",
   "metadata": {
    "execution": {
     "iopub.execute_input": "2024-11-12T16:14:38.354459Z",
     "iopub.status.busy": "2024-11-12T16:14:38.354138Z",
     "iopub.status.idle": "2024-11-12T16:14:38.358733Z",
     "shell.execute_reply": "2024-11-12T16:14:38.357709Z"
    },
    "papermill": {
     "duration": 0.015023,
     "end_time": "2024-11-12T16:14:38.360788",
     "exception": false,
     "start_time": "2024-11-12T16:14:38.345765",
     "status": "completed"
    },
    "tags": []
   },
   "outputs": [],
   "source": [
    "def reshape_image_data(data, rows):\n",
    "    return data.reshape(rows, 28, 28, 1).astype('float32') / 255"
   ]
  },
  {
   "cell_type": "code",
   "execution_count": 9,
   "id": "63762201",
   "metadata": {
    "execution": {
     "iopub.execute_input": "2024-11-12T16:14:38.376256Z",
     "iopub.status.busy": "2024-11-12T16:14:38.375507Z",
     "iopub.status.idle": "2024-11-12T16:14:38.454563Z",
     "shell.execute_reply": "2024-11-12T16:14:38.453536Z"
    },
    "papermill": {
     "duration": 0.089339,
     "end_time": "2024-11-12T16:14:38.457006",
     "exception": false,
     "start_time": "2024-11-12T16:14:38.367667",
     "status": "completed"
    },
    "tags": []
   },
   "outputs": [],
   "source": [
    "X_train = reshape_image_data(X_train, X_train.shape[0])\n",
    "X_test = reshape_image_data(X_test, X_test.shape[0])"
   ]
  },
  {
   "cell_type": "code",
   "execution_count": 10,
   "id": "ff8f3868",
   "metadata": {
    "execution": {
     "iopub.execute_input": "2024-11-12T16:14:38.472124Z",
     "iopub.status.busy": "2024-11-12T16:14:38.471753Z",
     "iopub.status.idle": "2024-11-12T16:14:38.479346Z",
     "shell.execute_reply": "2024-11-12T16:14:38.478453Z"
    },
    "papermill": {
     "duration": 0.017282,
     "end_time": "2024-11-12T16:14:38.481392",
     "exception": false,
     "start_time": "2024-11-12T16:14:38.464110",
     "status": "completed"
    },
    "tags": []
   },
   "outputs": [],
   "source": [
    "CLASSES_AMOUNT = 10\n",
    "\n",
    "# one-hot encoding\n",
    "y_train = to_categorical(y_train, CLASSES_AMOUNT)\n",
    "y_test = to_categorical(y_test, CLASSES_AMOUNT)"
   ]
  },
  {
   "cell_type": "markdown",
   "id": "ddad1839",
   "metadata": {
    "papermill": {
     "duration": 0.00653,
     "end_time": "2024-11-12T16:14:38.494699",
     "exception": false,
     "start_time": "2024-11-12T16:14:38.488169",
     "status": "completed"
    },
    "tags": []
   },
   "source": [
    "**Design Neural Network Architecture**"
   ]
  },
  {
   "cell_type": "code",
   "execution_count": 11,
   "id": "c3641fe5",
   "metadata": {
    "execution": {
     "iopub.execute_input": "2024-11-12T16:14:38.510045Z",
     "iopub.status.busy": "2024-11-12T16:14:38.509266Z",
     "iopub.status.idle": "2024-11-12T16:14:39.632969Z",
     "shell.execute_reply": "2024-11-12T16:14:39.631745Z"
    },
    "papermill": {
     "duration": 1.134135,
     "end_time": "2024-11-12T16:14:39.635618",
     "exception": false,
     "start_time": "2024-11-12T16:14:38.501483",
     "status": "completed"
    },
    "tags": []
   },
   "outputs": [],
   "source": [
    "model = Sequential()\n",
    "\n",
    "INPUT_SHAPE=(28, 28, 1)\n",
    "KERNEL_SIZE = (3, 3)\n",
    "STRIDES=(2, 2)\n",
    "PADDING='same'\n",
    "ACTIVATION ='relu'\n",
    "OUTPUT_ACTIVATION = 'softmax'\n",
    "POOL_SIZE = (2, 2)\n",
    "DROPOUT_RATE=0.5\n",
    "DENSE = 128\n",
    "\n",
    "model.add(Input(INPUT_SHAPE))\n",
    "\n",
    "# the first conv pool layer\n",
    "model.add(Conv2D(96, kernel_size=KERNEL_SIZE, activation=ACTIVATION, strides=STRIDES, padding=PADDING))\n",
    "model.add(MaxPooling2D(pool_size=POOL_SIZE, strides=STRIDES))\n",
    "model.add(BatchNormalization())\n",
    "\n",
    "# the second conv pool layer\n",
    "model.add(Conv2D(256, kernel_size=KERNEL_SIZE, activation=ACTIVATION, padding=PADDING))\n",
    "model.add(MaxPooling2D(pool_size=POOL_SIZE, strides=STRIDES))\n",
    "model.add(BatchNormalization())\n",
    "\n",
    "# the third conv pool layer\n",
    "model.add(Conv2D(256, kernel_size=KERNEL_SIZE, activation=ACTIVATION, padding=PADDING))\n",
    "model.add(Conv2D(384, kernel_size=KERNEL_SIZE, activation=ACTIVATION, padding=PADDING))\n",
    "model.add(Conv2D(384, kernel_size=KERNEL_SIZE, activation=ACTIVATION, padding=PADDING))\n",
    "model.add(MaxPooling2D(pool_size=POOL_SIZE, strides=STRIDES))\n",
    "model.add(BatchNormalization())\n",
    "\n",
    "# dense layer\n",
    "model.add(Flatten())\n",
    "model.add(Dense(4096, activation=ACTIVATION))\n",
    "model.add(Dropout(DROPOUT_RATE))\n",
    "model.add(Dense(4096, activation=ACTIVATION))\n",
    "model.add(Dropout(DROPOUT_RATE))\n",
    "\n",
    "# output layer\n",
    "model.add(Dense(CLASSES_AMOUNT, OUTPUT_ACTIVATION))"
   ]
  },
  {
   "cell_type": "code",
   "execution_count": 12,
   "id": "f10fa76b",
   "metadata": {
    "execution": {
     "iopub.execute_input": "2024-11-12T16:14:39.651036Z",
     "iopub.status.busy": "2024-11-12T16:14:39.650670Z",
     "iopub.status.idle": "2024-11-12T16:14:39.682527Z",
     "shell.execute_reply": "2024-11-12T16:14:39.681709Z"
    },
    "papermill": {
     "duration": 0.041507,
     "end_time": "2024-11-12T16:14:39.684470",
     "exception": false,
     "start_time": "2024-11-12T16:14:39.642963",
     "status": "completed"
    },
    "tags": []
   },
   "outputs": [
    {
     "data": {
      "text/html": [
       "<pre style=\"white-space:pre;overflow-x:auto;line-height:normal;font-family:Menlo,'DejaVu Sans Mono',consolas,'Courier New',monospace\"><span style=\"font-weight: bold\">Model: \"sequential\"</span>\n",
       "</pre>\n"
      ],
      "text/plain": [
       "\u001b[1mModel: \"sequential\"\u001b[0m\n"
      ]
     },
     "metadata": {},
     "output_type": "display_data"
    },
    {
     "data": {
      "text/html": [
       "<pre style=\"white-space:pre;overflow-x:auto;line-height:normal;font-family:Menlo,'DejaVu Sans Mono',consolas,'Courier New',monospace\">┏━━━━━━━━━━━━━━━━━━━━━━━━━━━━━━━━━┳━━━━━━━━━━━━━━━━━━━━━━━━┳━━━━━━━━━━━━━━━┓\n",
       "┃<span style=\"font-weight: bold\"> Layer (type)                    </span>┃<span style=\"font-weight: bold\"> Output Shape           </span>┃<span style=\"font-weight: bold\">       Param # </span>┃\n",
       "┡━━━━━━━━━━━━━━━━━━━━━━━━━━━━━━━━━╇━━━━━━━━━━━━━━━━━━━━━━━━╇━━━━━━━━━━━━━━━┩\n",
       "│ conv2d (<span style=\"color: #0087ff; text-decoration-color: #0087ff\">Conv2D</span>)                 │ (<span style=\"color: #00d7ff; text-decoration-color: #00d7ff\">None</span>, <span style=\"color: #00af00; text-decoration-color: #00af00\">14</span>, <span style=\"color: #00af00; text-decoration-color: #00af00\">14</span>, <span style=\"color: #00af00; text-decoration-color: #00af00\">96</span>)     │           <span style=\"color: #00af00; text-decoration-color: #00af00\">960</span> │\n",
       "├─────────────────────────────────┼────────────────────────┼───────────────┤\n",
       "│ max_pooling2d (<span style=\"color: #0087ff; text-decoration-color: #0087ff\">MaxPooling2D</span>)    │ (<span style=\"color: #00d7ff; text-decoration-color: #00d7ff\">None</span>, <span style=\"color: #00af00; text-decoration-color: #00af00\">7</span>, <span style=\"color: #00af00; text-decoration-color: #00af00\">7</span>, <span style=\"color: #00af00; text-decoration-color: #00af00\">96</span>)       │             <span style=\"color: #00af00; text-decoration-color: #00af00\">0</span> │\n",
       "├─────────────────────────────────┼────────────────────────┼───────────────┤\n",
       "│ batch_normalization             │ (<span style=\"color: #00d7ff; text-decoration-color: #00d7ff\">None</span>, <span style=\"color: #00af00; text-decoration-color: #00af00\">7</span>, <span style=\"color: #00af00; text-decoration-color: #00af00\">7</span>, <span style=\"color: #00af00; text-decoration-color: #00af00\">96</span>)       │           <span style=\"color: #00af00; text-decoration-color: #00af00\">384</span> │\n",
       "│ (<span style=\"color: #0087ff; text-decoration-color: #0087ff\">BatchNormalization</span>)            │                        │               │\n",
       "├─────────────────────────────────┼────────────────────────┼───────────────┤\n",
       "│ conv2d_1 (<span style=\"color: #0087ff; text-decoration-color: #0087ff\">Conv2D</span>)               │ (<span style=\"color: #00d7ff; text-decoration-color: #00d7ff\">None</span>, <span style=\"color: #00af00; text-decoration-color: #00af00\">7</span>, <span style=\"color: #00af00; text-decoration-color: #00af00\">7</span>, <span style=\"color: #00af00; text-decoration-color: #00af00\">256</span>)      │       <span style=\"color: #00af00; text-decoration-color: #00af00\">221,440</span> │\n",
       "├─────────────────────────────────┼────────────────────────┼───────────────┤\n",
       "│ max_pooling2d_1 (<span style=\"color: #0087ff; text-decoration-color: #0087ff\">MaxPooling2D</span>)  │ (<span style=\"color: #00d7ff; text-decoration-color: #00d7ff\">None</span>, <span style=\"color: #00af00; text-decoration-color: #00af00\">3</span>, <span style=\"color: #00af00; text-decoration-color: #00af00\">3</span>, <span style=\"color: #00af00; text-decoration-color: #00af00\">256</span>)      │             <span style=\"color: #00af00; text-decoration-color: #00af00\">0</span> │\n",
       "├─────────────────────────────────┼────────────────────────┼───────────────┤\n",
       "│ batch_normalization_1           │ (<span style=\"color: #00d7ff; text-decoration-color: #00d7ff\">None</span>, <span style=\"color: #00af00; text-decoration-color: #00af00\">3</span>, <span style=\"color: #00af00; text-decoration-color: #00af00\">3</span>, <span style=\"color: #00af00; text-decoration-color: #00af00\">256</span>)      │         <span style=\"color: #00af00; text-decoration-color: #00af00\">1,024</span> │\n",
       "│ (<span style=\"color: #0087ff; text-decoration-color: #0087ff\">BatchNormalization</span>)            │                        │               │\n",
       "├─────────────────────────────────┼────────────────────────┼───────────────┤\n",
       "│ conv2d_2 (<span style=\"color: #0087ff; text-decoration-color: #0087ff\">Conv2D</span>)               │ (<span style=\"color: #00d7ff; text-decoration-color: #00d7ff\">None</span>, <span style=\"color: #00af00; text-decoration-color: #00af00\">3</span>, <span style=\"color: #00af00; text-decoration-color: #00af00\">3</span>, <span style=\"color: #00af00; text-decoration-color: #00af00\">256</span>)      │       <span style=\"color: #00af00; text-decoration-color: #00af00\">590,080</span> │\n",
       "├─────────────────────────────────┼────────────────────────┼───────────────┤\n",
       "│ conv2d_3 (<span style=\"color: #0087ff; text-decoration-color: #0087ff\">Conv2D</span>)               │ (<span style=\"color: #00d7ff; text-decoration-color: #00d7ff\">None</span>, <span style=\"color: #00af00; text-decoration-color: #00af00\">3</span>, <span style=\"color: #00af00; text-decoration-color: #00af00\">3</span>, <span style=\"color: #00af00; text-decoration-color: #00af00\">384</span>)      │       <span style=\"color: #00af00; text-decoration-color: #00af00\">885,120</span> │\n",
       "├─────────────────────────────────┼────────────────────────┼───────────────┤\n",
       "│ conv2d_4 (<span style=\"color: #0087ff; text-decoration-color: #0087ff\">Conv2D</span>)               │ (<span style=\"color: #00d7ff; text-decoration-color: #00d7ff\">None</span>, <span style=\"color: #00af00; text-decoration-color: #00af00\">3</span>, <span style=\"color: #00af00; text-decoration-color: #00af00\">3</span>, <span style=\"color: #00af00; text-decoration-color: #00af00\">384</span>)      │     <span style=\"color: #00af00; text-decoration-color: #00af00\">1,327,488</span> │\n",
       "├─────────────────────────────────┼────────────────────────┼───────────────┤\n",
       "│ max_pooling2d_2 (<span style=\"color: #0087ff; text-decoration-color: #0087ff\">MaxPooling2D</span>)  │ (<span style=\"color: #00d7ff; text-decoration-color: #00d7ff\">None</span>, <span style=\"color: #00af00; text-decoration-color: #00af00\">1</span>, <span style=\"color: #00af00; text-decoration-color: #00af00\">1</span>, <span style=\"color: #00af00; text-decoration-color: #00af00\">384</span>)      │             <span style=\"color: #00af00; text-decoration-color: #00af00\">0</span> │\n",
       "├─────────────────────────────────┼────────────────────────┼───────────────┤\n",
       "│ batch_normalization_2           │ (<span style=\"color: #00d7ff; text-decoration-color: #00d7ff\">None</span>, <span style=\"color: #00af00; text-decoration-color: #00af00\">1</span>, <span style=\"color: #00af00; text-decoration-color: #00af00\">1</span>, <span style=\"color: #00af00; text-decoration-color: #00af00\">384</span>)      │         <span style=\"color: #00af00; text-decoration-color: #00af00\">1,536</span> │\n",
       "│ (<span style=\"color: #0087ff; text-decoration-color: #0087ff\">BatchNormalization</span>)            │                        │               │\n",
       "├─────────────────────────────────┼────────────────────────┼───────────────┤\n",
       "│ flatten (<span style=\"color: #0087ff; text-decoration-color: #0087ff\">Flatten</span>)               │ (<span style=\"color: #00d7ff; text-decoration-color: #00d7ff\">None</span>, <span style=\"color: #00af00; text-decoration-color: #00af00\">384</span>)            │             <span style=\"color: #00af00; text-decoration-color: #00af00\">0</span> │\n",
       "├─────────────────────────────────┼────────────────────────┼───────────────┤\n",
       "│ dense (<span style=\"color: #0087ff; text-decoration-color: #0087ff\">Dense</span>)                   │ (<span style=\"color: #00d7ff; text-decoration-color: #00d7ff\">None</span>, <span style=\"color: #00af00; text-decoration-color: #00af00\">4096</span>)           │     <span style=\"color: #00af00; text-decoration-color: #00af00\">1,576,960</span> │\n",
       "├─────────────────────────────────┼────────────────────────┼───────────────┤\n",
       "│ dropout (<span style=\"color: #0087ff; text-decoration-color: #0087ff\">Dropout</span>)               │ (<span style=\"color: #00d7ff; text-decoration-color: #00d7ff\">None</span>, <span style=\"color: #00af00; text-decoration-color: #00af00\">4096</span>)           │             <span style=\"color: #00af00; text-decoration-color: #00af00\">0</span> │\n",
       "├─────────────────────────────────┼────────────────────────┼───────────────┤\n",
       "│ dense_1 (<span style=\"color: #0087ff; text-decoration-color: #0087ff\">Dense</span>)                 │ (<span style=\"color: #00d7ff; text-decoration-color: #00d7ff\">None</span>, <span style=\"color: #00af00; text-decoration-color: #00af00\">4096</span>)           │    <span style=\"color: #00af00; text-decoration-color: #00af00\">16,781,312</span> │\n",
       "├─────────────────────────────────┼────────────────────────┼───────────────┤\n",
       "│ dropout_1 (<span style=\"color: #0087ff; text-decoration-color: #0087ff\">Dropout</span>)             │ (<span style=\"color: #00d7ff; text-decoration-color: #00d7ff\">None</span>, <span style=\"color: #00af00; text-decoration-color: #00af00\">4096</span>)           │             <span style=\"color: #00af00; text-decoration-color: #00af00\">0</span> │\n",
       "├─────────────────────────────────┼────────────────────────┼───────────────┤\n",
       "│ dense_2 (<span style=\"color: #0087ff; text-decoration-color: #0087ff\">Dense</span>)                 │ (<span style=\"color: #00d7ff; text-decoration-color: #00d7ff\">None</span>, <span style=\"color: #00af00; text-decoration-color: #00af00\">10</span>)             │        <span style=\"color: #00af00; text-decoration-color: #00af00\">40,970</span> │\n",
       "└─────────────────────────────────┴────────────────────────┴───────────────┘\n",
       "</pre>\n"
      ],
      "text/plain": [
       "┏━━━━━━━━━━━━━━━━━━━━━━━━━━━━━━━━━┳━━━━━━━━━━━━━━━━━━━━━━━━┳━━━━━━━━━━━━━━━┓\n",
       "┃\u001b[1m \u001b[0m\u001b[1mLayer (type)                   \u001b[0m\u001b[1m \u001b[0m┃\u001b[1m \u001b[0m\u001b[1mOutput Shape          \u001b[0m\u001b[1m \u001b[0m┃\u001b[1m \u001b[0m\u001b[1m      Param #\u001b[0m\u001b[1m \u001b[0m┃\n",
       "┡━━━━━━━━━━━━━━━━━━━━━━━━━━━━━━━━━╇━━━━━━━━━━━━━━━━━━━━━━━━╇━━━━━━━━━━━━━━━┩\n",
       "│ conv2d (\u001b[38;5;33mConv2D\u001b[0m)                 │ (\u001b[38;5;45mNone\u001b[0m, \u001b[38;5;34m14\u001b[0m, \u001b[38;5;34m14\u001b[0m, \u001b[38;5;34m96\u001b[0m)     │           \u001b[38;5;34m960\u001b[0m │\n",
       "├─────────────────────────────────┼────────────────────────┼───────────────┤\n",
       "│ max_pooling2d (\u001b[38;5;33mMaxPooling2D\u001b[0m)    │ (\u001b[38;5;45mNone\u001b[0m, \u001b[38;5;34m7\u001b[0m, \u001b[38;5;34m7\u001b[0m, \u001b[38;5;34m96\u001b[0m)       │             \u001b[38;5;34m0\u001b[0m │\n",
       "├─────────────────────────────────┼────────────────────────┼───────────────┤\n",
       "│ batch_normalization             │ (\u001b[38;5;45mNone\u001b[0m, \u001b[38;5;34m7\u001b[0m, \u001b[38;5;34m7\u001b[0m, \u001b[38;5;34m96\u001b[0m)       │           \u001b[38;5;34m384\u001b[0m │\n",
       "│ (\u001b[38;5;33mBatchNormalization\u001b[0m)            │                        │               │\n",
       "├─────────────────────────────────┼────────────────────────┼───────────────┤\n",
       "│ conv2d_1 (\u001b[38;5;33mConv2D\u001b[0m)               │ (\u001b[38;5;45mNone\u001b[0m, \u001b[38;5;34m7\u001b[0m, \u001b[38;5;34m7\u001b[0m, \u001b[38;5;34m256\u001b[0m)      │       \u001b[38;5;34m221,440\u001b[0m │\n",
       "├─────────────────────────────────┼────────────────────────┼───────────────┤\n",
       "│ max_pooling2d_1 (\u001b[38;5;33mMaxPooling2D\u001b[0m)  │ (\u001b[38;5;45mNone\u001b[0m, \u001b[38;5;34m3\u001b[0m, \u001b[38;5;34m3\u001b[0m, \u001b[38;5;34m256\u001b[0m)      │             \u001b[38;5;34m0\u001b[0m │\n",
       "├─────────────────────────────────┼────────────────────────┼───────────────┤\n",
       "│ batch_normalization_1           │ (\u001b[38;5;45mNone\u001b[0m, \u001b[38;5;34m3\u001b[0m, \u001b[38;5;34m3\u001b[0m, \u001b[38;5;34m256\u001b[0m)      │         \u001b[38;5;34m1,024\u001b[0m │\n",
       "│ (\u001b[38;5;33mBatchNormalization\u001b[0m)            │                        │               │\n",
       "├─────────────────────────────────┼────────────────────────┼───────────────┤\n",
       "│ conv2d_2 (\u001b[38;5;33mConv2D\u001b[0m)               │ (\u001b[38;5;45mNone\u001b[0m, \u001b[38;5;34m3\u001b[0m, \u001b[38;5;34m3\u001b[0m, \u001b[38;5;34m256\u001b[0m)      │       \u001b[38;5;34m590,080\u001b[0m │\n",
       "├─────────────────────────────────┼────────────────────────┼───────────────┤\n",
       "│ conv2d_3 (\u001b[38;5;33mConv2D\u001b[0m)               │ (\u001b[38;5;45mNone\u001b[0m, \u001b[38;5;34m3\u001b[0m, \u001b[38;5;34m3\u001b[0m, \u001b[38;5;34m384\u001b[0m)      │       \u001b[38;5;34m885,120\u001b[0m │\n",
       "├─────────────────────────────────┼────────────────────────┼───────────────┤\n",
       "│ conv2d_4 (\u001b[38;5;33mConv2D\u001b[0m)               │ (\u001b[38;5;45mNone\u001b[0m, \u001b[38;5;34m3\u001b[0m, \u001b[38;5;34m3\u001b[0m, \u001b[38;5;34m384\u001b[0m)      │     \u001b[38;5;34m1,327,488\u001b[0m │\n",
       "├─────────────────────────────────┼────────────────────────┼───────────────┤\n",
       "│ max_pooling2d_2 (\u001b[38;5;33mMaxPooling2D\u001b[0m)  │ (\u001b[38;5;45mNone\u001b[0m, \u001b[38;5;34m1\u001b[0m, \u001b[38;5;34m1\u001b[0m, \u001b[38;5;34m384\u001b[0m)      │             \u001b[38;5;34m0\u001b[0m │\n",
       "├─────────────────────────────────┼────────────────────────┼───────────────┤\n",
       "│ batch_normalization_2           │ (\u001b[38;5;45mNone\u001b[0m, \u001b[38;5;34m1\u001b[0m, \u001b[38;5;34m1\u001b[0m, \u001b[38;5;34m384\u001b[0m)      │         \u001b[38;5;34m1,536\u001b[0m │\n",
       "│ (\u001b[38;5;33mBatchNormalization\u001b[0m)            │                        │               │\n",
       "├─────────────────────────────────┼────────────────────────┼───────────────┤\n",
       "│ flatten (\u001b[38;5;33mFlatten\u001b[0m)               │ (\u001b[38;5;45mNone\u001b[0m, \u001b[38;5;34m384\u001b[0m)            │             \u001b[38;5;34m0\u001b[0m │\n",
       "├─────────────────────────────────┼────────────────────────┼───────────────┤\n",
       "│ dense (\u001b[38;5;33mDense\u001b[0m)                   │ (\u001b[38;5;45mNone\u001b[0m, \u001b[38;5;34m4096\u001b[0m)           │     \u001b[38;5;34m1,576,960\u001b[0m │\n",
       "├─────────────────────────────────┼────────────────────────┼───────────────┤\n",
       "│ dropout (\u001b[38;5;33mDropout\u001b[0m)               │ (\u001b[38;5;45mNone\u001b[0m, \u001b[38;5;34m4096\u001b[0m)           │             \u001b[38;5;34m0\u001b[0m │\n",
       "├─────────────────────────────────┼────────────────────────┼───────────────┤\n",
       "│ dense_1 (\u001b[38;5;33mDense\u001b[0m)                 │ (\u001b[38;5;45mNone\u001b[0m, \u001b[38;5;34m4096\u001b[0m)           │    \u001b[38;5;34m16,781,312\u001b[0m │\n",
       "├─────────────────────────────────┼────────────────────────┼───────────────┤\n",
       "│ dropout_1 (\u001b[38;5;33mDropout\u001b[0m)             │ (\u001b[38;5;45mNone\u001b[0m, \u001b[38;5;34m4096\u001b[0m)           │             \u001b[38;5;34m0\u001b[0m │\n",
       "├─────────────────────────────────┼────────────────────────┼───────────────┤\n",
       "│ dense_2 (\u001b[38;5;33mDense\u001b[0m)                 │ (\u001b[38;5;45mNone\u001b[0m, \u001b[38;5;34m10\u001b[0m)             │        \u001b[38;5;34m40,970\u001b[0m │\n",
       "└─────────────────────────────────┴────────────────────────┴───────────────┘\n"
      ]
     },
     "metadata": {},
     "output_type": "display_data"
    },
    {
     "data": {
      "text/html": [
       "<pre style=\"white-space:pre;overflow-x:auto;line-height:normal;font-family:Menlo,'DejaVu Sans Mono',consolas,'Courier New',monospace\"><span style=\"font-weight: bold\"> Total params: </span><span style=\"color: #00af00; text-decoration-color: #00af00\">21,427,274</span> (81.74 MB)\n",
       "</pre>\n"
      ],
      "text/plain": [
       "\u001b[1m Total params: \u001b[0m\u001b[38;5;34m21,427,274\u001b[0m (81.74 MB)\n"
      ]
     },
     "metadata": {},
     "output_type": "display_data"
    },
    {
     "data": {
      "text/html": [
       "<pre style=\"white-space:pre;overflow-x:auto;line-height:normal;font-family:Menlo,'DejaVu Sans Mono',consolas,'Courier New',monospace\"><span style=\"font-weight: bold\"> Trainable params: </span><span style=\"color: #00af00; text-decoration-color: #00af00\">21,425,802</span> (81.73 MB)\n",
       "</pre>\n"
      ],
      "text/plain": [
       "\u001b[1m Trainable params: \u001b[0m\u001b[38;5;34m21,425,802\u001b[0m (81.73 MB)\n"
      ]
     },
     "metadata": {},
     "output_type": "display_data"
    },
    {
     "data": {
      "text/html": [
       "<pre style=\"white-space:pre;overflow-x:auto;line-height:normal;font-family:Menlo,'DejaVu Sans Mono',consolas,'Courier New',monospace\"><span style=\"font-weight: bold\"> Non-trainable params: </span><span style=\"color: #00af00; text-decoration-color: #00af00\">1,472</span> (5.75 KB)\n",
       "</pre>\n"
      ],
      "text/plain": [
       "\u001b[1m Non-trainable params: \u001b[0m\u001b[38;5;34m1,472\u001b[0m (5.75 KB)\n"
      ]
     },
     "metadata": {},
     "output_type": "display_data"
    }
   ],
   "source": [
    "model.summary()"
   ]
  },
  {
   "cell_type": "markdown",
   "id": "afa7f3df",
   "metadata": {
    "papermill": {
     "duration": 0.008652,
     "end_time": "2024-11-12T16:14:39.700844",
     "exception": false,
     "start_time": "2024-11-12T16:14:39.692192",
     "status": "completed"
    },
    "tags": []
   },
   "source": [
    "**Configure Model**"
   ]
  },
  {
   "cell_type": "code",
   "execution_count": 13,
   "id": "2bc5e7ee",
   "metadata": {
    "execution": {
     "iopub.execute_input": "2024-11-12T16:14:39.717173Z",
     "iopub.status.busy": "2024-11-12T16:14:39.716827Z",
     "iopub.status.idle": "2024-11-12T16:14:39.730585Z",
     "shell.execute_reply": "2024-11-12T16:14:39.729915Z"
    },
    "papermill": {
     "duration": 0.024093,
     "end_time": "2024-11-12T16:14:39.732505",
     "exception": false,
     "start_time": "2024-11-12T16:14:39.708412",
     "status": "completed"
    },
    "tags": []
   },
   "outputs": [],
   "source": [
    "model.compile(\n",
    "    optimizer='nadam',\n",
    "    loss='categorical_crossentropy',\n",
    "    metrics=['accuracy']\n",
    ")"
   ]
  },
  {
   "cell_type": "markdown",
   "id": "139a7b46",
   "metadata": {
    "papermill": {
     "duration": 0.007465,
     "end_time": "2024-11-12T16:14:39.747745",
     "exception": false,
     "start_time": "2024-11-12T16:14:39.740280",
     "status": "completed"
    },
    "tags": []
   },
   "source": [
    "**Train**"
   ]
  },
  {
   "cell_type": "code",
   "execution_count": 14,
   "id": "eb2e5f3f",
   "metadata": {
    "execution": {
     "iopub.execute_input": "2024-11-12T16:14:39.764479Z",
     "iopub.status.busy": "2024-11-12T16:14:39.764172Z",
     "iopub.status.idle": "2024-11-12T16:15:37.700850Z",
     "shell.execute_reply": "2024-11-12T16:15:37.700048Z"
    },
    "papermill": {
     "duration": 57.947297,
     "end_time": "2024-11-12T16:15:37.702956",
     "exception": false,
     "start_time": "2024-11-12T16:14:39.755659",
     "status": "completed"
    },
    "tags": []
   },
   "outputs": [
    {
     "name": "stdout",
     "output_type": "stream",
     "text": [
      "Epoch 1/10\n"
     ]
    },
    {
     "name": "stderr",
     "output_type": "stream",
     "text": [
      "WARNING: All log messages before absl::InitializeLog() is called are written to STDERR\n",
      "I0000 00:00:1731428084.047413      67 service.cc:145] XLA service 0x791530006310 initialized for platform CUDA (this does not guarantee that XLA will be used). Devices:\n",
      "I0000 00:00:1731428084.047470      67 service.cc:153]   StreamExecutor device (0): Tesla P100-PCIE-16GB, Compute Capability 6.0\n"
     ]
    },
    {
     "name": "stdout",
     "output_type": "stream",
     "text": [
      "\u001b[1m 16/329\u001b[0m \u001b[37m━━━━━━━━━━━━━━━━━━━━\u001b[0m \u001b[1m3s\u001b[0m 11ms/step - accuracy: 0.4601 - loss: 2.0290"
     ]
    },
    {
     "name": "stderr",
     "output_type": "stream",
     "text": [
      "I0000 00:00:1731428090.688727      67 device_compiler.h:188] Compiled cluster using XLA!  This line is logged at most once for the lifetime of the process.\n"
     ]
    },
    {
     "name": "stdout",
     "output_type": "stream",
     "text": [
      "\u001b[1m329/329\u001b[0m \u001b[32m━━━━━━━━━━━━━━━━━━━━\u001b[0m\u001b[37m\u001b[0m \u001b[1m21s\u001b[0m 31ms/step - accuracy: 0.8888 - loss: 0.4166 - val_accuracy: 0.2729 - val_loss: 5.6427\n",
      "Epoch 2/10\n",
      "\u001b[1m329/329\u001b[0m \u001b[32m━━━━━━━━━━━━━━━━━━━━\u001b[0m\u001b[37m\u001b[0m \u001b[1m4s\u001b[0m 12ms/step - accuracy: 0.9792 - loss: 0.0818 - val_accuracy: 0.9789 - val_loss: 0.0825\n",
      "Epoch 3/10\n",
      "\u001b[1m329/329\u001b[0m \u001b[32m━━━━━━━━━━━━━━━━━━━━\u001b[0m\u001b[37m\u001b[0m \u001b[1m4s\u001b[0m 12ms/step - accuracy: 0.9834 - loss: 0.0650 - val_accuracy: 0.9712 - val_loss: 0.1427\n",
      "Epoch 4/10\n",
      "\u001b[1m329/329\u001b[0m \u001b[32m━━━━━━━━━━━━━━━━━━━━\u001b[0m\u001b[37m\u001b[0m \u001b[1m4s\u001b[0m 12ms/step - accuracy: 0.9820 - loss: 0.0687 - val_accuracy: 0.9602 - val_loss: 0.1896\n",
      "Epoch 5/10\n",
      "\u001b[1m329/329\u001b[0m \u001b[32m━━━━━━━━━━━━━━━━━━━━\u001b[0m\u001b[37m\u001b[0m \u001b[1m4s\u001b[0m 12ms/step - accuracy: 0.9859 - loss: 0.0561 - val_accuracy: 0.9794 - val_loss: 0.1001\n",
      "Epoch 6/10\n",
      "\u001b[1m329/329\u001b[0m \u001b[32m━━━━━━━━━━━━━━━━━━━━\u001b[0m\u001b[37m\u001b[0m \u001b[1m4s\u001b[0m 13ms/step - accuracy: 0.9905 - loss: 0.0402 - val_accuracy: 0.9676 - val_loss: 0.2445\n",
      "Epoch 7/10\n",
      "\u001b[1m329/329\u001b[0m \u001b[32m━━━━━━━━━━━━━━━━━━━━\u001b[0m\u001b[37m\u001b[0m \u001b[1m4s\u001b[0m 12ms/step - accuracy: 0.9873 - loss: 0.0530 - val_accuracy: 0.9738 - val_loss: 0.1548\n",
      "Epoch 8/10\n",
      "\u001b[1m329/329\u001b[0m \u001b[32m━━━━━━━━━━━━━━━━━━━━\u001b[0m\u001b[37m\u001b[0m \u001b[1m4s\u001b[0m 12ms/step - accuracy: 0.9895 - loss: 0.0451 - val_accuracy: 0.9791 - val_loss: 0.1301\n",
      "Epoch 9/10\n",
      "\u001b[1m329/329\u001b[0m \u001b[32m━━━━━━━━━━━━━━━━━━━━\u001b[0m\u001b[37m\u001b[0m \u001b[1m4s\u001b[0m 12ms/step - accuracy: 0.9909 - loss: 0.0439 - val_accuracy: 0.9651 - val_loss: 0.1928\n",
      "Epoch 10/10\n",
      "\u001b[1m329/329\u001b[0m \u001b[32m━━━━━━━━━━━━━━━━━━━━\u001b[0m\u001b[37m\u001b[0m \u001b[1m4s\u001b[0m 12ms/step - accuracy: 0.9881 - loss: 0.0509 - val_accuracy: 0.9831 - val_loss: 0.1075\n"
     ]
    }
   ],
   "source": [
    "BATCH_SIZE=128\n",
    "EPOCHS=10\n",
    "\n",
    "trained = model.fit(\n",
    "    X_train, y_train,\n",
    "    batch_size=BATCH_SIZE,\n",
    "    epochs=EPOCHS,\n",
    "    verbose=1,\n",
    "    validation_split=0.3\n",
    ")"
   ]
  },
  {
   "cell_type": "code",
   "execution_count": 15,
   "id": "2ae6e801",
   "metadata": {
    "execution": {
     "iopub.execute_input": "2024-11-12T16:15:37.826543Z",
     "iopub.status.busy": "2024-11-12T16:15:37.825746Z",
     "iopub.status.idle": "2024-11-12T16:15:37.841703Z",
     "shell.execute_reply": "2024-11-12T16:15:37.840831Z"
    },
    "papermill": {
     "duration": 0.078976,
     "end_time": "2024-11-12T16:15:37.843635",
     "exception": false,
     "start_time": "2024-11-12T16:15:37.764659",
     "status": "completed"
    },
    "tags": []
   },
   "outputs": [],
   "source": [
    "import sys \n",
    "sys.path.append(os.path.abspath('/kaggle/usr/lib/utils/utils.py'))\n",
    "\n",
    "import utils"
   ]
  },
  {
   "cell_type": "code",
   "execution_count": 16,
   "id": "f5fb01ad",
   "metadata": {
    "execution": {
     "iopub.execute_input": "2024-11-12T16:15:37.966176Z",
     "iopub.status.busy": "2024-11-12T16:15:37.965830Z",
     "iopub.status.idle": "2024-11-12T16:15:38.394325Z",
     "shell.execute_reply": "2024-11-12T16:15:38.393438Z"
    },
    "papermill": {
     "duration": 0.492563,
     "end_time": "2024-11-12T16:15:38.396287",
     "exception": false,
     "start_time": "2024-11-12T16:15:37.903724",
     "status": "completed"
    },
    "tags": []
   },
   "outputs": [
    {
     "data": {
      "image/png": "[encoded data removed]",
      "text/plain": [
       "<Figure size 1500x400 with 1 Axes>"
      ]
     },
     "metadata": {},
     "output_type": "display_data"
    },
    {
     "data": {
      "image/png": "[encoded data removed]",
      "text/plain": [
       "<Figure size 1500x400 with 1 Axes>"
      ]
     },
     "metadata": {},
     "output_type": "display_data"
    }
   ],
   "source": [
    "train_loss = trained.history['loss']\n",
    "train_acc = trained.history['accuracy']\n",
    "val_loss = trained.history['val_loss']\n",
    "val_acc = trained.history['val_accuracy']\n",
    "\n",
    "utils.plot_train_results(\n",
    "    [train_loss, val_loss],\n",
    "    epochs=EPOCHS,\n",
    "    ylabel='Loss',\n",
    "    ylim=[0.0, 2],\n",
    "    metric_name=['Training Loss', 'Validation Loss'],\n",
    "    color=['orange', 'g']\n",
    ")\n",
    "\n",
    "utils.plot_train_results(\n",
    "    [train_acc, val_acc],\n",
    "    epochs=EPOCHS,\n",
    "    ylabel='Accuracy',\n",
    "    ylim=[0.6, 1.0],\n",
    "    metric_name=['Training Accuracy', 'Validation Accuracy'],\n",
    "    color=['orange', 'g']\n",
    ")"
   ]
  },
  {
   "cell_type": "code",
   "execution_count": 17,
   "id": "aaa350c6",
   "metadata": {
    "execution": {
     "iopub.execute_input": "2024-11-12T16:15:38.519915Z",
     "iopub.status.busy": "2024-11-12T16:15:38.519572Z",
     "iopub.status.idle": "2024-11-12T16:15:40.325727Z",
     "shell.execute_reply": "2024-11-12T16:15:40.324797Z"
    },
    "papermill": {
     "duration": 1.870264,
     "end_time": "2024-11-12T16:15:40.327668",
     "exception": false,
     "start_time": "2024-11-12T16:15:38.457404",
     "status": "completed"
    },
    "tags": []
   },
   "outputs": [
    {
     "name": "stdout",
     "output_type": "stream",
     "text": [
      "\u001b[1m313/313\u001b[0m \u001b[32m━━━━━━━━━━━━━━━━━━━━\u001b[0m\u001b[37m\u001b[0m \u001b[1m2s\u001b[0m 3ms/step - accuracy: 0.9792 - loss: 0.1359\n",
      "Test accuracy: 98.210 %\n",
      "Test loss: 0.10769804567098618\n"
     ]
    }
   ],
   "source": [
    "test_loss, test_acc = model.evaluate(X_test, y_test)\n",
    "\n",
    "print(f'Test accuracy: {test_acc*100:.3f} %')\n",
    "print(f'Test loss: {test_loss}')"
   ]
  },
  {
   "cell_type": "code",
   "execution_count": null,
   "id": "ba2a8668",
   "metadata": {
    "papermill": {
     "duration": 0.061798,
     "end_time": "2024-11-12T16:15:40.452333",
     "exception": false,
     "start_time": "2024-11-12T16:15:40.390535",
     "status": "completed"
    },
    "tags": []
   },
   "outputs": [],
   "source": []
  }
 ],
 "metadata": {
  "kaggle": {
   "accelerator": "gpu",
   "dataSources": [
    {
     "sourceId": 206809564,
     "sourceType": "kernelVersion"
    }
   ],
   "dockerImageVersionId": 30786,
   "isGpuEnabled": true,
   "isInternetEnabled": true,
   "language": "python",
   "sourceType": "notebook"
  },
  "kernelspec": {
   "display_name": "Python 3",
   "language": "python",
   "name": "python3"
  },
  "language_info": {
   "codemirror_mode": {
    "name": "ipython",
    "version": 3
   },
   "file_extension": ".py",
   "mimetype": "text/x-python",
   "name": "python",
   "nbconvert_exporter": "python",
   "pygments_lexer": "ipython3",
   "version": "3.10.14"
  },
  "papermill": {
   "default_parameters": {},
   "duration": 80.697926,
   "end_time": "2024-11-12T16:15:43.060274",
   "environment_variables": {},
   "exception": null,
   "input_path": "__notebook__.ipynb",
   "output_path": "__notebook__.ipynb",
   "parameters": {},
   "start_time": "2024-11-12T16:14:22.362348",
   "version": "2.6.0"
  }
 },
 "nbformat": 4,
 "nbformat_minor": 5
}
