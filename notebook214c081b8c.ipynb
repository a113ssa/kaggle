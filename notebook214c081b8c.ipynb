{
 "cells": [
  {
   "cell_type": "code",
   "execution_count": 1,
   "id": "2b392cd2",
   "metadata": {
    "_cell_guid": "b1076dfc-b9ad-4769-8c92-a6c4dae69d19",
    "_uuid": "8f2839f25d086af736a60e9eeb907d3b93b6e0e5",
    "execution": {
     "iopub.execute_input": "2024-11-12T15:33:59.047355Z",
     "iopub.status.busy": "2024-11-12T15:33:59.046922Z",
     "iopub.status.idle": "2024-11-12T15:33:59.824116Z",
     "shell.execute_reply": "2024-11-12T15:33:59.823267Z"
    },
    "papermill": {
     "duration": 0.788051,
     "end_time": "2024-11-12T15:33:59.826465",
     "exception": false,
     "start_time": "2024-11-12T15:33:59.038414",
     "status": "completed"
    },
    "tags": []
   },
   "outputs": [],
   "source": [
    "# This Python 3 environment comes with many helpful analytics libraries installed\n",
    "# It is defined by the kaggle/python Docker image: https://github.com/kaggle/docker-python\n",
    "# For example, here's several helpful packages to load\n",
    "\n",
    "import numpy as np # linear algebra\n",
    "import pandas as pd # data processing, CSV file I/O (e.g. pd.read_csv)\n",
    "\n",
    "# Input data files are available in the read-only \"../input/\" directory\n",
    "# For example, running this (by clicking run or pressing Shift+Enter) will list all files under the input directory\n",
    "\n",
    "import os\n",
    "for dirname, _, filenames in os.walk('/kaggle/input'):\n",
    "    for filename in filenames:\n",
    "        print(os.path.join(dirname, filename))\n",
    "\n",
    "# You can write up to 20GB to the current directory (/kaggle/working/) that gets preserved as output when you create a version using \"Save & Run All\" \n",
    "# You can also write temporary files to /kaggle/temp/, but they won't be saved outside of the current session"
   ]
  },
  {
   "cell_type": "code",
   "execution_count": 2,
   "id": "26cedfeb",
   "metadata": {
    "execution": {
     "iopub.execute_input": "2024-11-12T15:33:59.841211Z",
     "iopub.status.busy": "2024-11-12T15:33:59.840710Z",
     "iopub.status.idle": "2024-11-12T15:34:12.624309Z",
     "shell.execute_reply": "2024-11-12T15:34:12.623455Z"
    },
    "papermill": {
     "duration": 12.793573,
     "end_time": "2024-11-12T15:34:12.626676",
     "exception": false,
     "start_time": "2024-11-12T15:33:59.833103",
     "status": "completed"
    },
    "tags": []
   },
   "outputs": [],
   "source": [
    "import tensorflow as tf\n",
    "from tensorflow.keras.datasets import mnist\n",
    "from tensorflow.keras.utils import to_categorical\n",
    "from tensorflow.keras.models import Sequential\n",
    "from tensorflow.keras.layers import Dense, Dropout, Conv2D, Flatten, MaxPooling2D, Input, BatchNormalization\n",
    "\n",
    "import matplotlib.pyplot as plt"
   ]
  },
  {
   "cell_type": "markdown",
   "id": "bddb4fcf",
   "metadata": {
    "papermill": {
     "duration": 0.00605,
     "end_time": "2024-11-12T15:34:12.639174",
     "exception": false,
     "start_time": "2024-11-12T15:34:12.633124",
     "status": "completed"
    },
    "tags": []
   },
   "source": [
    "**Load Data**"
   ]
  },
  {
   "cell_type": "code",
   "execution_count": 3,
   "id": "1a0eef32",
   "metadata": {
    "execution": {
     "iopub.execute_input": "2024-11-12T15:34:12.655410Z",
     "iopub.status.busy": "2024-11-12T15:34:12.654273Z",
     "iopub.status.idle": "2024-11-12T15:34:14.303740Z",
     "shell.execute_reply": "2024-11-12T15:34:14.302678Z"
    },
    "papermill": {
     "duration": 1.659581,
     "end_time": "2024-11-12T15:34:14.306270",
     "exception": false,
     "start_time": "2024-11-12T15:34:12.646689",
     "status": "completed"
    },
    "tags": []
   },
   "outputs": [
    {
     "name": "stdout",
     "output_type": "stream",
     "text": [
      "Downloading data from https://storage.googleapis.com/tensorflow/tf-keras-datasets/mnist.npz\n",
      "\u001b[1m11490434/11490434\u001b[0m \u001b[32m━━━━━━━━━━━━━━━━━━━━\u001b[0m\u001b[37m\u001b[0m \u001b[1m1s\u001b[0m 0us/step\n"
     ]
    }
   ],
   "source": [
    "(X_train, y_train), (X_test, y_test) = mnist.load_data()"
   ]
  },
  {
   "cell_type": "code",
   "execution_count": 4,
   "id": "53bc4c3b",
   "metadata": {
    "execution": {
     "iopub.execute_input": "2024-11-12T15:34:14.324754Z",
     "iopub.status.busy": "2024-11-12T15:34:14.324370Z",
     "iopub.status.idle": "2024-11-12T15:34:14.329437Z",
     "shell.execute_reply": "2024-11-12T15:34:14.328524Z"
    },
    "papermill": {
     "duration": 0.01718,
     "end_time": "2024-11-12T15:34:14.331935",
     "exception": false,
     "start_time": "2024-11-12T15:34:14.314755",
     "status": "completed"
    },
    "tags": []
   },
   "outputs": [
    {
     "name": "stdout",
     "output_type": "stream",
     "text": [
      "X train: (60000, 28, 28)\n",
      "y train: (60000,)\n",
      "\n",
      "X test: (10000, 28, 28)\n",
      "y test: (10000,)\n"
     ]
    }
   ],
   "source": [
    "print(f'X train: {X_train.shape}\\ny train: {y_train.shape}\\n\\nX test: {X_test.shape}\\ny test: {y_test.shape}')"
   ]
  },
  {
   "cell_type": "code",
   "execution_count": 5,
   "id": "6025679b",
   "metadata": {
    "execution": {
     "iopub.execute_input": "2024-11-12T15:34:14.350254Z",
     "iopub.status.busy": "2024-11-12T15:34:14.349431Z",
     "iopub.status.idle": "2024-11-12T15:34:14.353722Z",
     "shell.execute_reply": "2024-11-12T15:34:14.352781Z"
    },
    "papermill": {
     "duration": 0.015744,
     "end_time": "2024-11-12T15:34:14.355722",
     "exception": false,
     "start_time": "2024-11-12T15:34:14.339978",
     "status": "completed"
    },
    "tags": []
   },
   "outputs": [],
   "source": [
    "SAMPLE_SIZE = 12"
   ]
  },
  {
   "cell_type": "code",
   "execution_count": 6,
   "id": "f4d278d5",
   "metadata": {
    "execution": {
     "iopub.execute_input": "2024-11-12T15:34:14.373829Z",
     "iopub.status.busy": "2024-11-12T15:34:14.373027Z",
     "iopub.status.idle": "2024-11-12T15:34:14.380491Z",
     "shell.execute_reply": "2024-11-12T15:34:14.379569Z"
    },
    "papermill": {
     "duration": 0.018687,
     "end_time": "2024-11-12T15:34:14.382585",
     "exception": false,
     "start_time": "2024-11-12T15:34:14.363898",
     "status": "completed"
    },
    "tags": []
   },
   "outputs": [
    {
     "data": {
      "text/plain": [
       "array([5, 0, 4, 1, 9, 2, 1, 3, 1, 4, 3, 5], dtype=uint8)"
      ]
     },
     "execution_count": 6,
     "metadata": {},
     "output_type": "execute_result"
    }
   ],
   "source": [
    "y_train[0:SAMPLE_SIZE]"
   ]
  },
  {
   "cell_type": "code",
   "execution_count": 7,
   "id": "0cbfde9c",
   "metadata": {
    "execution": {
     "iopub.execute_input": "2024-11-12T15:34:14.402288Z",
     "iopub.status.busy": "2024-11-12T15:34:14.401872Z",
     "iopub.status.idle": "2024-11-12T15:34:14.944184Z",
     "shell.execute_reply": "2024-11-12T15:34:14.942683Z"
    },
    "papermill": {
     "duration": 0.556721,
     "end_time": "2024-11-12T15:34:14.948194",
     "exception": false,
     "start_time": "2024-11-12T15:34:14.391473",
     "status": "completed"
    },
    "tags": []
   },
   "outputs": [
    {
     "data": {
      "image/png": "[encoded data removed]",
      "text/plain": [
       "<Figure size 500x500 with 12 Axes>"
      ]
     },
     "metadata": {},
     "output_type": "display_data"
    }
   ],
   "source": [
    "plt.figure(figsize=(5, 5))\n",
    "\n",
    "for i in range(SAMPLE_SIZE):\n",
    "    plt.subplot(3, 4, i+1)\n",
    "    plt.imshow(X_train[i], cmap='Greys')\n",
    "    plt.axis('off')\n",
    "plt.tight_layout()\n",
    "plt.show()"
   ]
  },
  {
   "cell_type": "markdown",
   "id": "422e99ff",
   "metadata": {
    "papermill": {
     "duration": 0.009535,
     "end_time": "2024-11-12T15:34:14.976556",
     "exception": false,
     "start_time": "2024-11-12T15:34:14.967021",
     "status": "completed"
    },
    "tags": []
   },
   "source": [
    "**Preprocess Data**"
   ]
  },
  {
   "cell_type": "code",
   "execution_count": 8,
   "id": "881f8c4d",
   "metadata": {
    "execution": {
     "iopub.execute_input": "2024-11-12T15:34:14.995678Z",
     "iopub.status.busy": "2024-11-12T15:34:14.995034Z",
     "iopub.status.idle": "2024-11-12T15:34:14.999960Z",
     "shell.execute_reply": "2024-11-12T15:34:14.999039Z"
    },
    "papermill": {
     "duration": 0.016713,
     "end_time": "2024-11-12T15:34:15.001916",
     "exception": false,
     "start_time": "2024-11-12T15:34:14.985203",
     "status": "completed"
    },
    "tags": []
   },
   "outputs": [],
   "source": [
    "def reshape_image_data(data, rows):\n",
    "    return data.reshape(rows, 28, 28, 1).astype('float32') / 255"
   ]
  },
  {
   "cell_type": "code",
   "execution_count": 9,
   "id": "03e022b2",
   "metadata": {
    "execution": {
     "iopub.execute_input": "2024-11-12T15:34:15.020509Z",
     "iopub.status.busy": "2024-11-12T15:34:15.019832Z",
     "iopub.status.idle": "2024-11-12T15:34:15.102260Z",
     "shell.execute_reply": "2024-11-12T15:34:15.101188Z"
    },
    "papermill": {
     "duration": 0.094346,
     "end_time": "2024-11-12T15:34:15.104800",
     "exception": false,
     "start_time": "2024-11-12T15:34:15.010454",
     "status": "completed"
    },
    "tags": []
   },
   "outputs": [],
   "source": [
    "X_train = reshape_image_data(X_train, X_train.shape[0])\n",
    "X_test = reshape_image_data(X_test, X_test.shape[0])"
   ]
  },
  {
   "cell_type": "code",
   "execution_count": 10,
   "id": "8f86c0d3",
   "metadata": {
    "execution": {
     "iopub.execute_input": "2024-11-12T15:34:15.123864Z",
     "iopub.status.busy": "2024-11-12T15:34:15.123457Z",
     "iopub.status.idle": "2024-11-12T15:34:15.129952Z",
     "shell.execute_reply": "2024-11-12T15:34:15.129010Z"
    },
    "papermill": {
     "duration": 0.018487,
     "end_time": "2024-11-12T15:34:15.132047",
     "exception": false,
     "start_time": "2024-11-12T15:34:15.113560",
     "status": "completed"
    },
    "tags": []
   },
   "outputs": [],
   "source": [
    "CLASSES_AMOUNT = 10\n",
    "\n",
    "# one-hot encoding\n",
    "y_train = to_categorical(y_train, CLASSES_AMOUNT)\n",
    "y_test = to_categorical(y_test, CLASSES_AMOUNT)"
   ]
  },
  {
   "cell_type": "markdown",
   "id": "c40a7933",
   "metadata": {
    "papermill": {
     "duration": 0.008354,
     "end_time": "2024-11-12T15:34:15.149057",
     "exception": false,
     "start_time": "2024-11-12T15:34:15.140703",
     "status": "completed"
    },
    "tags": []
   },
   "source": [
    "**Design Neural Network Architecture**"
   ]
  },
  {
   "cell_type": "code",
   "execution_count": 11,
   "id": "eaffebfa",
   "metadata": {
    "execution": {
     "iopub.execute_input": "2024-11-12T15:34:15.168816Z",
     "iopub.status.busy": "2024-11-12T15:34:15.167894Z",
     "iopub.status.idle": "2024-11-12T15:34:16.325702Z",
     "shell.execute_reply": "2024-11-12T15:34:16.324660Z"
    },
    "papermill": {
     "duration": 1.170327,
     "end_time": "2024-11-12T15:34:16.328004",
     "exception": false,
     "start_time": "2024-11-12T15:34:15.157677",
     "status": "completed"
    },
    "tags": []
   },
   "outputs": [],
   "source": [
    "model = Sequential()\n",
    "\n",
    "INPUT_SHAPE=(28, 28, 1)\n",
    "KERNEL_SIZE_11 = (11, 11)\n",
    "KERNEL_SIZE_3 = (3, 3)\n",
    "KERNEL_SIZE_5 = (5, 5)\n",
    "STRIDES=(1, 1)\n",
    "ACTIVATION ='relu'\n",
    "OUTPUT_ACTIVATION = 'softmax'\n",
    "POOL_SIZE = (3, 3)\n",
    "DROPOUT_RATE=0.5\n",
    "DENSE = 128\n",
    "\n",
    "model.add(Input(INPUT_SHAPE))\n",
    "\n",
    "# the first conv pool layer\n",
    "model.add(Conv2D(96, kernel_size=KERNEL_SIZE_11, activation=ACTIVATION, strides=STRIDES))\n",
    "model.add(MaxPooling2D(pool_size=POOL_SIZE, strides=STRIDES))\n",
    "model.add(BatchNormalization())\n",
    "\n",
    "# the second conv pool layer\n",
    "model.add(Conv2D(256, kernel_size=KERNEL_SIZE_5, activation=ACTIVATION))\n",
    "model.add(MaxPooling2D(pool_size=POOL_SIZE, strides=STRIDES))\n",
    "model.add(BatchNormalization())\n",
    "\n",
    "# the third conv pool layer\n",
    "model.add(Conv2D(256, kernel_size=KERNEL_SIZE_3, activation=ACTIVATION))\n",
    "model.add(Conv2D(384, kernel_size=KERNEL_SIZE_3, activation=ACTIVATION))\n",
    "model.add(Conv2D(384, kernel_size=KERNEL_SIZE_3, activation=ACTIVATION))\n",
    "model.add(MaxPooling2D(pool_size=POOL_SIZE, strides=STRIDES))\n",
    "model.add(BatchNormalization())\n",
    "\n",
    "# dense layer\n",
    "model.add(Flatten())\n",
    "model.add(Dense(4096, activation=ACTIVATION))\n",
    "model.add(Dropout(DROPOUT_RATE))\n",
    "model.add(Dense(4096, activation=ACTIVATION))\n",
    "model.add(Dropout(DROPOUT_RATE))\n",
    "\n",
    "# output layer\n",
    "model.add(Dense(CLASSES_AMOUNT, OUTPUT_ACTIVATION))"
   ]
  },
  {
   "cell_type": "code",
   "execution_count": 12,
   "id": "2ee6e0ca",
   "metadata": {
    "execution": {
     "iopub.execute_input": "2024-11-12T15:34:16.347879Z",
     "iopub.status.busy": "2024-11-12T15:34:16.347151Z",
     "iopub.status.idle": "2024-11-12T15:34:16.382104Z",
     "shell.execute_reply": "2024-11-12T15:34:16.381260Z"
    },
    "papermill": {
     "duration": 0.047601,
     "end_time": "2024-11-12T15:34:16.384314",
     "exception": false,
     "start_time": "2024-11-12T15:34:16.336713",
     "status": "completed"
    },
    "tags": []
   },
   "outputs": [
    {
     "data": {
      "text/html": [
       "<pre style=\"white-space:pre;overflow-x:auto;line-height:normal;font-family:Menlo,'DejaVu Sans Mono',consolas,'Courier New',monospace\"><span style=\"font-weight: bold\">Model: \"sequential\"</span>\n",
       "</pre>\n"
      ],
      "text/plain": [
       "\u001b[1mModel: \"sequential\"\u001b[0m\n"
      ]
     },
     "metadata": {},
     "output_type": "display_data"
    },
    {
     "data": {
      "text/html": [
       "<pre style=\"white-space:pre;overflow-x:auto;line-height:normal;font-family:Menlo,'DejaVu Sans Mono',consolas,'Courier New',monospace\">┏━━━━━━━━━━━━━━━━━━━━━━━━━━━━━━━━━┳━━━━━━━━━━━━━━━━━━━━━━━━┳━━━━━━━━━━━━━━━┓\n",
       "┃<span style=\"font-weight: bold\"> Layer (type)                    </span>┃<span style=\"font-weight: bold\"> Output Shape           </span>┃<span style=\"font-weight: bold\">       Param # </span>┃\n",
       "┡━━━━━━━━━━━━━━━━━━━━━━━━━━━━━━━━━╇━━━━━━━━━━━━━━━━━━━━━━━━╇━━━━━━━━━━━━━━━┩\n",
       "│ conv2d (<span style=\"color: #0087ff; text-decoration-color: #0087ff\">Conv2D</span>)                 │ (<span style=\"color: #00d7ff; text-decoration-color: #00d7ff\">None</span>, <span style=\"color: #00af00; text-decoration-color: #00af00\">18</span>, <span style=\"color: #00af00; text-decoration-color: #00af00\">18</span>, <span style=\"color: #00af00; text-decoration-color: #00af00\">96</span>)     │        <span style=\"color: #00af00; text-decoration-color: #00af00\">11,712</span> │\n",
       "├─────────────────────────────────┼────────────────────────┼───────────────┤\n",
       "│ max_pooling2d (<span style=\"color: #0087ff; text-decoration-color: #0087ff\">MaxPooling2D</span>)    │ (<span style=\"color: #00d7ff; text-decoration-color: #00d7ff\">None</span>, <span style=\"color: #00af00; text-decoration-color: #00af00\">16</span>, <span style=\"color: #00af00; text-decoration-color: #00af00\">16</span>, <span style=\"color: #00af00; text-decoration-color: #00af00\">96</span>)     │             <span style=\"color: #00af00; text-decoration-color: #00af00\">0</span> │\n",
       "├─────────────────────────────────┼────────────────────────┼───────────────┤\n",
       "│ batch_normalization             │ (<span style=\"color: #00d7ff; text-decoration-color: #00d7ff\">None</span>, <span style=\"color: #00af00; text-decoration-color: #00af00\">16</span>, <span style=\"color: #00af00; text-decoration-color: #00af00\">16</span>, <span style=\"color: #00af00; text-decoration-color: #00af00\">96</span>)     │           <span style=\"color: #00af00; text-decoration-color: #00af00\">384</span> │\n",
       "│ (<span style=\"color: #0087ff; text-decoration-color: #0087ff\">BatchNormalization</span>)            │                        │               │\n",
       "├─────────────────────────────────┼────────────────────────┼───────────────┤\n",
       "│ conv2d_1 (<span style=\"color: #0087ff; text-decoration-color: #0087ff\">Conv2D</span>)               │ (<span style=\"color: #00d7ff; text-decoration-color: #00d7ff\">None</span>, <span style=\"color: #00af00; text-decoration-color: #00af00\">12</span>, <span style=\"color: #00af00; text-decoration-color: #00af00\">12</span>, <span style=\"color: #00af00; text-decoration-color: #00af00\">256</span>)    │       <span style=\"color: #00af00; text-decoration-color: #00af00\">614,656</span> │\n",
       "├─────────────────────────────────┼────────────────────────┼───────────────┤\n",
       "│ max_pooling2d_1 (<span style=\"color: #0087ff; text-decoration-color: #0087ff\">MaxPooling2D</span>)  │ (<span style=\"color: #00d7ff; text-decoration-color: #00d7ff\">None</span>, <span style=\"color: #00af00; text-decoration-color: #00af00\">10</span>, <span style=\"color: #00af00; text-decoration-color: #00af00\">10</span>, <span style=\"color: #00af00; text-decoration-color: #00af00\">256</span>)    │             <span style=\"color: #00af00; text-decoration-color: #00af00\">0</span> │\n",
       "├─────────────────────────────────┼────────────────────────┼───────────────┤\n",
       "│ batch_normalization_1           │ (<span style=\"color: #00d7ff; text-decoration-color: #00d7ff\">None</span>, <span style=\"color: #00af00; text-decoration-color: #00af00\">10</span>, <span style=\"color: #00af00; text-decoration-color: #00af00\">10</span>, <span style=\"color: #00af00; text-decoration-color: #00af00\">256</span>)    │         <span style=\"color: #00af00; text-decoration-color: #00af00\">1,024</span> │\n",
       "│ (<span style=\"color: #0087ff; text-decoration-color: #0087ff\">BatchNormalization</span>)            │                        │               │\n",
       "├─────────────────────────────────┼────────────────────────┼───────────────┤\n",
       "│ conv2d_2 (<span style=\"color: #0087ff; text-decoration-color: #0087ff\">Conv2D</span>)               │ (<span style=\"color: #00d7ff; text-decoration-color: #00d7ff\">None</span>, <span style=\"color: #00af00; text-decoration-color: #00af00\">8</span>, <span style=\"color: #00af00; text-decoration-color: #00af00\">8</span>, <span style=\"color: #00af00; text-decoration-color: #00af00\">256</span>)      │       <span style=\"color: #00af00; text-decoration-color: #00af00\">590,080</span> │\n",
       "├─────────────────────────────────┼────────────────────────┼───────────────┤\n",
       "│ conv2d_3 (<span style=\"color: #0087ff; text-decoration-color: #0087ff\">Conv2D</span>)               │ (<span style=\"color: #00d7ff; text-decoration-color: #00d7ff\">None</span>, <span style=\"color: #00af00; text-decoration-color: #00af00\">6</span>, <span style=\"color: #00af00; text-decoration-color: #00af00\">6</span>, <span style=\"color: #00af00; text-decoration-color: #00af00\">384</span>)      │       <span style=\"color: #00af00; text-decoration-color: #00af00\">885,120</span> │\n",
       "├─────────────────────────────────┼────────────────────────┼───────────────┤\n",
       "│ conv2d_4 (<span style=\"color: #0087ff; text-decoration-color: #0087ff\">Conv2D</span>)               │ (<span style=\"color: #00d7ff; text-decoration-color: #00d7ff\">None</span>, <span style=\"color: #00af00; text-decoration-color: #00af00\">4</span>, <span style=\"color: #00af00; text-decoration-color: #00af00\">4</span>, <span style=\"color: #00af00; text-decoration-color: #00af00\">384</span>)      │     <span style=\"color: #00af00; text-decoration-color: #00af00\">1,327,488</span> │\n",
       "├─────────────────────────────────┼────────────────────────┼───────────────┤\n",
       "│ max_pooling2d_2 (<span style=\"color: #0087ff; text-decoration-color: #0087ff\">MaxPooling2D</span>)  │ (<span style=\"color: #00d7ff; text-decoration-color: #00d7ff\">None</span>, <span style=\"color: #00af00; text-decoration-color: #00af00\">2</span>, <span style=\"color: #00af00; text-decoration-color: #00af00\">2</span>, <span style=\"color: #00af00; text-decoration-color: #00af00\">384</span>)      │             <span style=\"color: #00af00; text-decoration-color: #00af00\">0</span> │\n",
       "├─────────────────────────────────┼────────────────────────┼───────────────┤\n",
       "│ batch_normalization_2           │ (<span style=\"color: #00d7ff; text-decoration-color: #00d7ff\">None</span>, <span style=\"color: #00af00; text-decoration-color: #00af00\">2</span>, <span style=\"color: #00af00; text-decoration-color: #00af00\">2</span>, <span style=\"color: #00af00; text-decoration-color: #00af00\">384</span>)      │         <span style=\"color: #00af00; text-decoration-color: #00af00\">1,536</span> │\n",
       "│ (<span style=\"color: #0087ff; text-decoration-color: #0087ff\">BatchNormalization</span>)            │                        │               │\n",
       "├─────────────────────────────────┼────────────────────────┼───────────────┤\n",
       "│ flatten (<span style=\"color: #0087ff; text-decoration-color: #0087ff\">Flatten</span>)               │ (<span style=\"color: #00d7ff; text-decoration-color: #00d7ff\">None</span>, <span style=\"color: #00af00; text-decoration-color: #00af00\">1536</span>)           │             <span style=\"color: #00af00; text-decoration-color: #00af00\">0</span> │\n",
       "├─────────────────────────────────┼────────────────────────┼───────────────┤\n",
       "│ dense (<span style=\"color: #0087ff; text-decoration-color: #0087ff\">Dense</span>)                   │ (<span style=\"color: #00d7ff; text-decoration-color: #00d7ff\">None</span>, <span style=\"color: #00af00; text-decoration-color: #00af00\">4096</span>)           │     <span style=\"color: #00af00; text-decoration-color: #00af00\">6,295,552</span> │\n",
       "├─────────────────────────────────┼────────────────────────┼───────────────┤\n",
       "│ dropout (<span style=\"color: #0087ff; text-decoration-color: #0087ff\">Dropout</span>)               │ (<span style=\"color: #00d7ff; text-decoration-color: #00d7ff\">None</span>, <span style=\"color: #00af00; text-decoration-color: #00af00\">4096</span>)           │             <span style=\"color: #00af00; text-decoration-color: #00af00\">0</span> │\n",
       "├─────────────────────────────────┼────────────────────────┼───────────────┤\n",
       "│ dense_1 (<span style=\"color: #0087ff; text-decoration-color: #0087ff\">Dense</span>)                 │ (<span style=\"color: #00d7ff; text-decoration-color: #00d7ff\">None</span>, <span style=\"color: #00af00; text-decoration-color: #00af00\">4096</span>)           │    <span style=\"color: #00af00; text-decoration-color: #00af00\">16,781,312</span> │\n",
       "├─────────────────────────────────┼────────────────────────┼───────────────┤\n",
       "│ dropout_1 (<span style=\"color: #0087ff; text-decoration-color: #0087ff\">Dropout</span>)             │ (<span style=\"color: #00d7ff; text-decoration-color: #00d7ff\">None</span>, <span style=\"color: #00af00; text-decoration-color: #00af00\">4096</span>)           │             <span style=\"color: #00af00; text-decoration-color: #00af00\">0</span> │\n",
       "├─────────────────────────────────┼────────────────────────┼───────────────┤\n",
       "│ dense_2 (<span style=\"color: #0087ff; text-decoration-color: #0087ff\">Dense</span>)                 │ (<span style=\"color: #00d7ff; text-decoration-color: #00d7ff\">None</span>, <span style=\"color: #00af00; text-decoration-color: #00af00\">10</span>)             │        <span style=\"color: #00af00; text-decoration-color: #00af00\">40,970</span> │\n",
       "└─────────────────────────────────┴────────────────────────┴───────────────┘\n",
       "</pre>\n"
      ],
      "text/plain": [
       "┏━━━━━━━━━━━━━━━━━━━━━━━━━━━━━━━━━┳━━━━━━━━━━━━━━━━━━━━━━━━┳━━━━━━━━━━━━━━━┓\n",
       "┃\u001b[1m \u001b[0m\u001b[1mLayer (type)                   \u001b[0m\u001b[1m \u001b[0m┃\u001b[1m \u001b[0m\u001b[1mOutput Shape          \u001b[0m\u001b[1m \u001b[0m┃\u001b[1m \u001b[0m\u001b[1m      Param #\u001b[0m\u001b[1m \u001b[0m┃\n",
       "┡━━━━━━━━━━━━━━━━━━━━━━━━━━━━━━━━━╇━━━━━━━━━━━━━━━━━━━━━━━━╇━━━━━━━━━━━━━━━┩\n",
       "│ conv2d (\u001b[38;5;33mConv2D\u001b[0m)                 │ (\u001b[38;5;45mNone\u001b[0m, \u001b[38;5;34m18\u001b[0m, \u001b[38;5;34m18\u001b[0m, \u001b[38;5;34m96\u001b[0m)     │        \u001b[38;5;34m11,712\u001b[0m │\n",
       "├─────────────────────────────────┼────────────────────────┼───────────────┤\n",
       "│ max_pooling2d (\u001b[38;5;33mMaxPooling2D\u001b[0m)    │ (\u001b[38;5;45mNone\u001b[0m, \u001b[38;5;34m16\u001b[0m, \u001b[38;5;34m16\u001b[0m, \u001b[38;5;34m96\u001b[0m)     │             \u001b[38;5;34m0\u001b[0m │\n",
       "├─────────────────────────────────┼────────────────────────┼───────────────┤\n",
       "│ batch_normalization             │ (\u001b[38;5;45mNone\u001b[0m, \u001b[38;5;34m16\u001b[0m, \u001b[38;5;34m16\u001b[0m, \u001b[38;5;34m96\u001b[0m)     │           \u001b[38;5;34m384\u001b[0m │\n",
       "│ (\u001b[38;5;33mBatchNormalization\u001b[0m)            │                        │               │\n",
       "├─────────────────────────────────┼────────────────────────┼───────────────┤\n",
       "│ conv2d_1 (\u001b[38;5;33mConv2D\u001b[0m)               │ (\u001b[38;5;45mNone\u001b[0m, \u001b[38;5;34m12\u001b[0m, \u001b[38;5;34m12\u001b[0m, \u001b[38;5;34m256\u001b[0m)    │       \u001b[38;5;34m614,656\u001b[0m │\n",
       "├─────────────────────────────────┼────────────────────────┼───────────────┤\n",
       "│ max_pooling2d_1 (\u001b[38;5;33mMaxPooling2D\u001b[0m)  │ (\u001b[38;5;45mNone\u001b[0m, \u001b[38;5;34m10\u001b[0m, \u001b[38;5;34m10\u001b[0m, \u001b[38;5;34m256\u001b[0m)    │             \u001b[38;5;34m0\u001b[0m │\n",
       "├─────────────────────────────────┼────────────────────────┼───────────────┤\n",
       "│ batch_normalization_1           │ (\u001b[38;5;45mNone\u001b[0m, \u001b[38;5;34m10\u001b[0m, \u001b[38;5;34m10\u001b[0m, \u001b[38;5;34m256\u001b[0m)    │         \u001b[38;5;34m1,024\u001b[0m │\n",
       "│ (\u001b[38;5;33mBatchNormalization\u001b[0m)            │                        │               │\n",
       "├─────────────────────────────────┼────────────────────────┼───────────────┤\n",
       "│ conv2d_2 (\u001b[38;5;33mConv2D\u001b[0m)               │ (\u001b[38;5;45mNone\u001b[0m, \u001b[38;5;34m8\u001b[0m, \u001b[38;5;34m8\u001b[0m, \u001b[38;5;34m256\u001b[0m)      │       \u001b[38;5;34m590,080\u001b[0m │\n",
       "├─────────────────────────────────┼────────────────────────┼───────────────┤\n",
       "│ conv2d_3 (\u001b[38;5;33mConv2D\u001b[0m)               │ (\u001b[38;5;45mNone\u001b[0m, \u001b[38;5;34m6\u001b[0m, \u001b[38;5;34m6\u001b[0m, \u001b[38;5;34m384\u001b[0m)      │       \u001b[38;5;34m885,120\u001b[0m │\n",
       "├─────────────────────────────────┼────────────────────────┼───────────────┤\n",
       "│ conv2d_4 (\u001b[38;5;33mConv2D\u001b[0m)               │ (\u001b[38;5;45mNone\u001b[0m, \u001b[38;5;34m4\u001b[0m, \u001b[38;5;34m4\u001b[0m, \u001b[38;5;34m384\u001b[0m)      │     \u001b[38;5;34m1,327,488\u001b[0m │\n",
       "├─────────────────────────────────┼────────────────────────┼───────────────┤\n",
       "│ max_pooling2d_2 (\u001b[38;5;33mMaxPooling2D\u001b[0m)  │ (\u001b[38;5;45mNone\u001b[0m, \u001b[38;5;34m2\u001b[0m, \u001b[38;5;34m2\u001b[0m, \u001b[38;5;34m384\u001b[0m)      │             \u001b[38;5;34m0\u001b[0m │\n",
       "├─────────────────────────────────┼────────────────────────┼───────────────┤\n",
       "│ batch_normalization_2           │ (\u001b[38;5;45mNone\u001b[0m, \u001b[38;5;34m2\u001b[0m, \u001b[38;5;34m2\u001b[0m, \u001b[38;5;34m384\u001b[0m)      │         \u001b[38;5;34m1,536\u001b[0m │\n",
       "│ (\u001b[38;5;33mBatchNormalization\u001b[0m)            │                        │               │\n",
       "├─────────────────────────────────┼────────────────────────┼───────────────┤\n",
       "│ flatten (\u001b[38;5;33mFlatten\u001b[0m)               │ (\u001b[38;5;45mNone\u001b[0m, \u001b[38;5;34m1536\u001b[0m)           │             \u001b[38;5;34m0\u001b[0m │\n",
       "├─────────────────────────────────┼────────────────────────┼───────────────┤\n",
       "│ dense (\u001b[38;5;33mDense\u001b[0m)                   │ (\u001b[38;5;45mNone\u001b[0m, \u001b[38;5;34m4096\u001b[0m)           │     \u001b[38;5;34m6,295,552\u001b[0m │\n",
       "├─────────────────────────────────┼────────────────────────┼───────────────┤\n",
       "│ dropout (\u001b[38;5;33mDropout\u001b[0m)               │ (\u001b[38;5;45mNone\u001b[0m, \u001b[38;5;34m4096\u001b[0m)           │             \u001b[38;5;34m0\u001b[0m │\n",
       "├─────────────────────────────────┼────────────────────────┼───────────────┤\n",
       "│ dense_1 (\u001b[38;5;33mDense\u001b[0m)                 │ (\u001b[38;5;45mNone\u001b[0m, \u001b[38;5;34m4096\u001b[0m)           │    \u001b[38;5;34m16,781,312\u001b[0m │\n",
       "├─────────────────────────────────┼────────────────────────┼───────────────┤\n",
       "│ dropout_1 (\u001b[38;5;33mDropout\u001b[0m)             │ (\u001b[38;5;45mNone\u001b[0m, \u001b[38;5;34m4096\u001b[0m)           │             \u001b[38;5;34m0\u001b[0m │\n",
       "├─────────────────────────────────┼────────────────────────┼───────────────┤\n",
       "│ dense_2 (\u001b[38;5;33mDense\u001b[0m)                 │ (\u001b[38;5;45mNone\u001b[0m, \u001b[38;5;34m10\u001b[0m)             │        \u001b[38;5;34m40,970\u001b[0m │\n",
       "└─────────────────────────────────┴────────────────────────┴───────────────┘\n"
      ]
     },
     "metadata": {},
     "output_type": "display_data"
    },
    {
     "data": {
      "text/html": [
       "<pre style=\"white-space:pre;overflow-x:auto;line-height:normal;font-family:Menlo,'DejaVu Sans Mono',consolas,'Courier New',monospace\"><span style=\"font-weight: bold\"> Total params: </span><span style=\"color: #00af00; text-decoration-color: #00af00\">26,549,834</span> (101.28 MB)\n",
       "</pre>\n"
      ],
      "text/plain": [
       "\u001b[1m Total params: \u001b[0m\u001b[38;5;34m26,549,834\u001b[0m (101.28 MB)\n"
      ]
     },
     "metadata": {},
     "output_type": "display_data"
    },
    {
     "data": {
      "text/html": [
       "<pre style=\"white-space:pre;overflow-x:auto;line-height:normal;font-family:Menlo,'DejaVu Sans Mono',consolas,'Courier New',monospace\"><span style=\"font-weight: bold\"> Trainable params: </span><span style=\"color: #00af00; text-decoration-color: #00af00\">26,548,362</span> (101.27 MB)\n",
       "</pre>\n"
      ],
      "text/plain": [
       "\u001b[1m Trainable params: \u001b[0m\u001b[38;5;34m26,548,362\u001b[0m (101.27 MB)\n"
      ]
     },
     "metadata": {},
     "output_type": "display_data"
    },
    {
     "data": {
      "text/html": [
       "<pre style=\"white-space:pre;overflow-x:auto;line-height:normal;font-family:Menlo,'DejaVu Sans Mono',consolas,'Courier New',monospace\"><span style=\"font-weight: bold\"> Non-trainable params: </span><span style=\"color: #00af00; text-decoration-color: #00af00\">1,472</span> (5.75 KB)\n",
       "</pre>\n"
      ],
      "text/plain": [
       "\u001b[1m Non-trainable params: \u001b[0m\u001b[38;5;34m1,472\u001b[0m (5.75 KB)\n"
      ]
     },
     "metadata": {},
     "output_type": "display_data"
    }
   ],
   "source": [
    "model.summary()"
   ]
  },
  {
   "cell_type": "markdown",
   "id": "22145fdb",
   "metadata": {
    "papermill": {
     "duration": 0.009125,
     "end_time": "2024-11-12T15:34:16.403099",
     "exception": false,
     "start_time": "2024-11-12T15:34:16.393974",
     "status": "completed"
    },
    "tags": []
   },
   "source": [
    "**Configure Model**"
   ]
  },
  {
   "cell_type": "code",
   "execution_count": 13,
   "id": "50713b7b",
   "metadata": {
    "execution": {
     "iopub.execute_input": "2024-11-12T15:34:16.423768Z",
     "iopub.status.busy": "2024-11-12T15:34:16.423350Z",
     "iopub.status.idle": "2024-11-12T15:34:16.437351Z",
     "shell.execute_reply": "2024-11-12T15:34:16.436535Z"
    },
    "papermill": {
     "duration": 0.027056,
     "end_time": "2024-11-12T15:34:16.439579",
     "exception": false,
     "start_time": "2024-11-12T15:34:16.412523",
     "status": "completed"
    },
    "tags": []
   },
   "outputs": [],
   "source": [
    "model.compile(\n",
    "    optimizer='nadam',\n",
    "    loss='categorical_crossentropy',\n",
    "    metrics=['accuracy']\n",
    ")"
   ]
  },
  {
   "cell_type": "markdown",
   "id": "b089cf81",
   "metadata": {
    "papermill": {
     "duration": 0.009034,
     "end_time": "2024-11-12T15:34:16.458434",
     "exception": false,
     "start_time": "2024-11-12T15:34:16.449400",
     "status": "completed"
    },
    "tags": []
   },
   "source": [
    "**Train**"
   ]
  },
  {
   "cell_type": "code",
   "execution_count": 14,
   "id": "ef88961c",
   "metadata": {
    "execution": {
     "iopub.execute_input": "2024-11-12T15:34:16.479005Z",
     "iopub.status.busy": "2024-11-12T15:34:16.478632Z",
     "iopub.status.idle": "2024-11-12T15:35:53.590552Z",
     "shell.execute_reply": "2024-11-12T15:35:53.589594Z"
    },
    "papermill": {
     "duration": 97.125055,
     "end_time": "2024-11-12T15:35:53.593012",
     "exception": false,
     "start_time": "2024-11-12T15:34:16.467957",
     "status": "completed"
    },
    "tags": []
   },
   "outputs": [
    {
     "name": "stdout",
     "output_type": "stream",
     "text": [
      "Epoch 1/10\n"
     ]
    },
    {
     "name": "stderr",
     "output_type": "stream",
     "text": [
      "WARNING: All log messages before absl::InitializeLog() is called are written to STDERR\n",
      "I0000 00:00:1731425661.043465      65 service.cc:145] XLA service 0x7b4cac001c60 initialized for platform CUDA (this does not guarantee that XLA will be used). Devices:\n",
      "I0000 00:00:1731425661.043529      65 service.cc:153]   StreamExecutor device (0): Tesla P100-PCIE-16GB, Compute Capability 6.0\n"
     ]
    },
    {
     "name": "stdout",
     "output_type": "stream",
     "text": [
      "\u001b[1m  7/329\u001b[0m \u001b[37m━━━━━━━━━━━━━━━━━━━━\u001b[0m \u001b[1m7s\u001b[0m 23ms/step - accuracy: 0.2430 - loss: 4.3070"
     ]
    },
    {
     "name": "stderr",
     "output_type": "stream",
     "text": [
      "I0000 00:00:1731425669.487842      65 device_compiler.h:188] Compiled cluster using XLA!  This line is logged at most once for the lifetime of the process.\n"
     ]
    },
    {
     "name": "stdout",
     "output_type": "stream",
     "text": [
      "\u001b[1m329/329\u001b[0m \u001b[32m━━━━━━━━━━━━━━━━━━━━\u001b[0m\u001b[37m\u001b[0m \u001b[1m28s\u001b[0m 46ms/step - accuracy: 0.8602 - loss: 0.6926 - val_accuracy: 0.8051 - val_loss: 0.7499\n",
      "Epoch 2/10\n",
      "\u001b[1m329/329\u001b[0m \u001b[32m━━━━━━━━━━━━━━━━━━━━\u001b[0m\u001b[37m\u001b[0m \u001b[1m8s\u001b[0m 23ms/step - accuracy: 0.9611 - loss: 0.1421 - val_accuracy: 0.9687 - val_loss: 0.1255\n",
      "Epoch 3/10\n",
      "\u001b[1m329/329\u001b[0m \u001b[32m━━━━━━━━━━━━━━━━━━━━\u001b[0m\u001b[37m\u001b[0m \u001b[1m8s\u001b[0m 23ms/step - accuracy: 0.9786 - loss: 0.0875 - val_accuracy: 0.9615 - val_loss: 0.1638\n",
      "Epoch 4/10\n",
      "\u001b[1m329/329\u001b[0m \u001b[32m━━━━━━━━━━━━━━━━━━━━\u001b[0m\u001b[37m\u001b[0m \u001b[1m8s\u001b[0m 23ms/step - accuracy: 0.9765 - loss: 0.0976 - val_accuracy: 0.9585 - val_loss: 0.2597\n",
      "Epoch 5/10\n",
      "\u001b[1m329/329\u001b[0m \u001b[32m━━━━━━━━━━━━━━━━━━━━\u001b[0m\u001b[37m\u001b[0m \u001b[1m8s\u001b[0m 23ms/step - accuracy: 0.9741 - loss: 0.1181 - val_accuracy: 0.9800 - val_loss: 0.1018\n",
      "Epoch 6/10\n",
      "\u001b[1m329/329\u001b[0m \u001b[32m━━━━━━━━━━━━━━━━━━━━\u001b[0m\u001b[37m\u001b[0m \u001b[1m8s\u001b[0m 23ms/step - accuracy: 0.9844 - loss: 0.0691 - val_accuracy: 0.9689 - val_loss: 0.1880\n",
      "Epoch 7/10\n",
      "\u001b[1m329/329\u001b[0m \u001b[32m━━━━━━━━━━━━━━━━━━━━\u001b[0m\u001b[37m\u001b[0m \u001b[1m8s\u001b[0m 23ms/step - accuracy: 0.9857 - loss: 0.0631 - val_accuracy: 0.9803 - val_loss: 0.0935\n",
      "Epoch 8/10\n",
      "\u001b[1m329/329\u001b[0m \u001b[32m━━━━━━━━━━━━━━━━━━━━\u001b[0m\u001b[37m\u001b[0m \u001b[1m8s\u001b[0m 23ms/step - accuracy: 0.9858 - loss: 0.0587 - val_accuracy: 0.9812 - val_loss: 0.1159\n",
      "Epoch 9/10\n",
      "\u001b[1m329/329\u001b[0m \u001b[32m━━━━━━━━━━━━━━━━━━━━\u001b[0m\u001b[37m\u001b[0m \u001b[1m8s\u001b[0m 23ms/step - accuracy: 0.9880 - loss: 0.0562 - val_accuracy: 0.9828 - val_loss: 0.0766\n",
      "Epoch 10/10\n",
      "\u001b[1m329/329\u001b[0m \u001b[32m━━━━━━━━━━━━━━━━━━━━\u001b[0m\u001b[37m\u001b[0m \u001b[1m8s\u001b[0m 23ms/step - accuracy: 0.9902 - loss: 0.0412 - val_accuracy: 0.9722 - val_loss: 0.1341\n"
     ]
    }
   ],
   "source": [
    "BATCH_SIZE=128\n",
    "EPOCHS=10\n",
    "\n",
    "trained = model.fit(\n",
    "    X_train, y_train,\n",
    "    batch_size=BATCH_SIZE,\n",
    "    epochs=EPOCHS,\n",
    "    verbose=1,\n",
    "    validation_split=0.3\n",
    ")"
   ]
  },
  {
   "cell_type": "code",
   "execution_count": 15,
   "id": "4ed01dd8",
   "metadata": {
    "execution": {
     "iopub.execute_input": "2024-11-12T15:35:53.795041Z",
     "iopub.status.busy": "2024-11-12T15:35:53.794062Z",
     "iopub.status.idle": "2024-11-12T15:35:53.805778Z",
     "shell.execute_reply": "2024-11-12T15:35:53.804768Z"
    },
    "papermill": {
     "duration": 0.114779,
     "end_time": "2024-11-12T15:35:53.807987",
     "exception": false,
     "start_time": "2024-11-12T15:35:53.693208",
     "status": "completed"
    },
    "tags": []
   },
   "outputs": [],
   "source": [
    "import sys \n",
    "sys.path.append(os.path.abspath('/kaggle/usr/lib/utils/utils.py'))\n",
    "\n",
    "import utils"
   ]
  },
  {
   "cell_type": "code",
   "execution_count": 16,
   "id": "9237e105",
   "metadata": {
    "execution": {
     "iopub.execute_input": "2024-11-12T15:35:54.013361Z",
     "iopub.status.busy": "2024-11-12T15:35:54.012403Z",
     "iopub.status.idle": "2024-11-12T15:35:54.488002Z",
     "shell.execute_reply": "2024-11-12T15:35:54.487031Z"
    },
    "papermill": {
     "duration": 0.57915,
     "end_time": "2024-11-12T15:35:54.490195",
     "exception": false,
     "start_time": "2024-11-12T15:35:53.911045",
     "status": "completed"
    },
    "tags": []
   },
   "outputs": [
    {
     "data": {
      "image/png": "[encoded data removed]",
      "text/plain": [
       "<Figure size 1500x400 with 1 Axes>"
      ]
     },
     "metadata": {},
     "output_type": "display_data"
    },
    {
     "data": {
      "image/png": "[encoded data removed]",
      "text/plain": [
       "<Figure size 1500x400 with 1 Axes>"
      ]
     },
     "metadata": {},
     "output_type": "display_data"
    }
   ],
   "source": [
    "train_loss = trained.history['loss']\n",
    "train_acc = trained.history['accuracy']\n",
    "val_loss = trained.history['val_loss']\n",
    "val_acc = trained.history['val_accuracy']\n",
    "\n",
    "utils.plot_train_results(\n",
    "    [train_loss, val_loss],\n",
    "    epochs=EPOCHS,\n",
    "    ylabel='Loss',\n",
    "    ylim=[0.0, 2],\n",
    "    metric_name=['Training Loss', 'Validation Loss'],\n",
    "    color=['orange', 'g']\n",
    ")\n",
    "\n",
    "utils.plot_train_results(\n",
    "    [train_acc, val_acc],\n",
    "    epochs=EPOCHS,\n",
    "    ylabel='Accuracy',\n",
    "    ylim=[0.6, 1.0],\n",
    "    metric_name=['Training Accuracy', 'Validation Accuracy'],\n",
    "    color=['orange', 'g']\n",
    ")"
   ]
  },
  {
   "cell_type": "code",
   "execution_count": 17,
   "id": "e94099b4",
   "metadata": {
    "execution": {
     "iopub.execute_input": "2024-11-12T15:35:54.713629Z",
     "iopub.status.busy": "2024-11-12T15:35:54.713202Z",
     "iopub.status.idle": "2024-11-12T15:35:56.949586Z",
     "shell.execute_reply": "2024-11-12T15:35:56.948481Z"
    },
    "papermill": {
     "duration": 2.34762,
     "end_time": "2024-11-12T15:35:56.951674",
     "exception": false,
     "start_time": "2024-11-12T15:35:54.604054",
     "status": "completed"
    },
    "tags": []
   },
   "outputs": [
    {
     "name": "stdout",
     "output_type": "stream",
     "text": [
      "\u001b[1m313/313\u001b[0m \u001b[32m━━━━━━━━━━━━━━━━━━━━\u001b[0m\u001b[37m\u001b[0m \u001b[1m2s\u001b[0m 4ms/step - accuracy: 0.9730 - loss: 0.1182\n",
      "Test accuracy: 97.440 %\n",
      "Test loss: 0.10703254491090775\n"
     ]
    }
   ],
   "source": [
    "test_loss, test_acc = model.evaluate(X_test, y_test)\n",
    "\n",
    "print(f'Test accuracy: {test_acc*100:.3f} %')\n",
    "print(f'Test loss: {test_loss}')"
   ]
  },
  {
   "cell_type": "code",
   "execution_count": null,
   "id": "6571f80f",
   "metadata": {
    "papermill": {
     "duration": 0.102023,
     "end_time": "2024-11-12T15:35:57.156260",
     "exception": false,
     "start_time": "2024-11-12T15:35:57.054237",
     "status": "completed"
    },
    "tags": []
   },
   "outputs": [],
   "source": []
  }
 ],
 "metadata": {
  "kaggle": {
   "accelerator": "gpu",
   "dataSources": [
    {
     "sourceId": 206809564,
     "sourceType": "kernelVersion"
    }
   ],
   "dockerImageVersionId": 30786,
   "isGpuEnabled": true,
   "isInternetEnabled": true,
   "language": "python",
   "sourceType": "notebook"
  },
  "kernelspec": {
   "display_name": "Python 3",
   "language": "python",
   "name": "python3"
  },
  "language_info": {
   "codemirror_mode": {
    "name": "ipython",
    "version": 3
   },
   "file_extension": ".py",
   "mimetype": "text/x-python",
   "name": "python",
   "nbconvert_exporter": "python",
   "pygments_lexer": "ipython3",
   "version": "3.10.14"
  },
  "papermill": {
   "default_parameters": {},
   "duration": 123.801125,
   "end_time": "2024-11-12T15:36:00.008100",
   "environment_variables": {},
   "exception": null,
   "input_path": "__notebook__.ipynb",
   "output_path": "__notebook__.ipynb",
   "parameters": {},
   "start_time": "2024-11-12T15:33:56.206975",
   "version": "2.6.0"
  }
 },
 "nbformat": 4,
 "nbformat_minor": 5
}
